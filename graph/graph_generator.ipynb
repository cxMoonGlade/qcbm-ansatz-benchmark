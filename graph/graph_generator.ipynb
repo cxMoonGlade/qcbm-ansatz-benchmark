{
 "cells": [
  {
   "cell_type": "code",
   "execution_count": null,
   "id": "19d6aa2b",
   "metadata": {},
   "outputs": [
    {
     "name": "stderr",
     "output_type": "stream",
     "text": [
      "usage: ipykernel_launcher.py [-h] --root ROOT --out OUT [--runs [RUNS ...]]\n",
      "                             [--labels [LABELS ...]] [--ema EMA]\n",
      "                             [--metrics [METRICS ...]]\n",
      "ipykernel_launcher.py: error: the following arguments are required: --root, --out\n"
     ]
    },
    {
     "ename": "SystemExit",
     "evalue": "2",
     "output_type": "error",
     "traceback": [
      "An exception has occurred, use %tb to see the full traceback.\n",
      "\u001b[31mSystemExit\u001b[39m\u001b[31m:\u001b[39m 2\n"
     ]
    },
    {
     "name": "stderr",
     "output_type": "stream",
     "text": [
      "/home/cx/miniforge3/envs/gg/lib/python3.12/site-packages/IPython/core/interactiveshell.py:3675: UserWarning: To exit: use 'exit', 'quit', or Ctrl-D.\n",
      "  warn(\"To exit: use 'exit', 'quit', or Ctrl-D.\", stacklevel=1)\n"
     ]
    }
   ],
   "source": [
    "# from your repo root\n",
    "python graph/compare.py \\\n",
    "  --root data/results/Qubits8 \\\n",
    "  --out  graph/Qubits8 \\\n",
    "  --ema  0.9 \\\n",
    "  --metrics loss mmd kl grad_norm step_time\n",
    "0.7\n",
    "Step 999: loss=0.075449 mmd=0.002077 kl=0.246650 ||g||=0.001167 dt_ms=0.029ms\n",
    "0.1\n",
    "Step 999: loss=0.224564 mmd=0.002195 kl=0.249271 ||g||=0.003662 dt_ms=0.127ms\n",
    "0.2\n",
    "Step 999: loss=0.211111 mmd=0.002905 kl=0.263162 ||g||=0.005027 dt_ms=0.029ms\n",
    "0.3\n",
    "Step 999: loss=0.172192 mmd=0.002165 kl=0.245061 ||g||=0.003197 dt_ms=0.157ms\n",
    "0.4\n",
    "Step 999: loss=0.148880 mmd=0.002176 kl=0.246683 ||g||=0.002398 dt_ms=0.156ms\n",
    "0.5\n",
    "Step 999: loss=0.124427 mmd=0.002158 kl=0.246695 ||g||=0.002026 dt_ms=0.128ms"
   ]
  }
 ],
 "metadata": {
  "kernelspec": {
   "display_name": "gg",
   "language": "python",
   "name": "python3"
  },
  "language_info": {
   "codemirror_mode": {
    "name": "ipython",
    "version": 3
   },
   "file_extension": ".py",
   "mimetype": "text/x-python",
   "name": "python",
   "nbconvert_exporter": "python",
   "pygments_lexer": "ipython3",
   "version": "3.12.9"
  }
 },
 "nbformat": 4,
 "nbformat_minor": 5
}
