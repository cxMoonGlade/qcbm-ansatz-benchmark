{
 "cells": [
  {
   "cell_type": "code",
   "execution_count": 2,
   "id": "8e81cc17",
   "metadata": {},
   "outputs": [
    {
     "name": "stdout",
     "output_type": "stream",
     "text": [
      "['CNOT', 'CZ', 'IsingXX', 'IsingXY', 'IsingYY', 'IsingZZ', 'RX', 'RY', 'RZ', 'SWAP']\n"
     ]
    }
   ],
   "source": [
    "import pennylane as qml\n",
    "\n",
    "all_gates = [attr for attr in dir(qml) if attr.startswith(\"Ising\") or attr in [\"RX\", \"RY\", \"RZ\", \"CNOT\", \"CZ\", \"SWAP\", \"XX\", \"YY\", \"ZZ\"]]\n",
    "print(all_gates)\n"
   ]
  }
 ],
 "metadata": {
  "kernelspec": {
   "display_name": "gg",
   "language": "python",
   "name": "python3"
  },
  "language_info": {
   "codemirror_mode": {
    "name": "ipython",
    "version": 3
   },
   "file_extension": ".py",
   "mimetype": "text/x-python",
   "name": "python",
   "nbconvert_exporter": "python",
   "pygments_lexer": "ipython3",
   "version": "3.12.9"
  }
 },
 "nbformat": 4,
 "nbformat_minor": 5
}
