{
 "cells": [
  {
   "cell_type": "code",
   "execution_count": 2,
   "id": "0de4a102",
   "metadata": {},
   "outputs": [
    {
     "name": "stdout",
     "output_type": "stream",
     "text": [
      "/home/cx/Desktop/report1/qcbm-ansatz-benchmark\n"
     ]
    }
   ],
   "source": [
    "import os\n",
    "os.environ[\"XLA_PYTHON_CLIENT_PREALLOCATE\"] = \"false\" \n",
    "os.environ[\"XLA_PYTHON_CLIENT_ALLOCATOR\"] = \"platform\"\n",
    "os.environ[\"JAX_PLATFORM_NAME\"] = \"gpu\"\n",
    "\n",
    "import pennylane as qml\n",
    "import jax\n",
    "jax.config.update(\"jax_enable_x64\", True)\n",
    "\n",
    "import jax.numpy as jnp\n",
    "\n",
    "\n",
    "import sys\n",
    "import os\n",
    "\n",
    "try:\n",
    "    current_file = os.path.abspath(__file__)\n",
    "except NameError:\n",
    "    # If running in Jupyter or interactive mode\n",
    "    current_file = os.path.abspath(\"\")\n",
    "\n",
    "# 2. back to root path（report1）\n",
    "report1_dir = os.path.abspath(os.path.join(current_file, \"../../\"))\n",
    "print(report1_dir)"
   ]
  }
 ],
 "metadata": {
  "kernelspec": {
   "display_name": "gg",
   "language": "python",
   "name": "python3"
  },
  "language_info": {
   "codemirror_mode": {
    "name": "ipython",
    "version": 3
   },
   "file_extension": ".py",
   "mimetype": "text/x-python",
   "name": "python",
   "nbconvert_exporter": "python",
   "pygments_lexer": "ipython3",
   "version": "3.12.9"
  }
 },
 "nbformat": 4,
 "nbformat_minor": 5
}
